{
 "cells": [
  {
   "cell_type": "code",
   "execution_count": 1,
   "id": "cdb98021",
   "metadata": {},
   "outputs": [
    {
     "name": "stdout",
     "output_type": "stream",
     "text": [
      "1000.0\n",
      "21000.0\n"
     ]
    }
   ],
   "source": [
    "year=6\n",
    "sal=20000\n",
    "if year>5:\n",
    "    bonus= (sal*5)/100\n",
    "    print(bonus)\n",
    "    t_sal=sal+bonus\n",
    "    print(t_sal)\n",
    "else:\n",
    "    print(\"no bonus\")"
   ]
  },
  {
   "cell_type": "code",
   "execution_count": 2,
   "id": "99cee67c",
   "metadata": {},
   "outputs": [
    {
     "name": "stdout",
     "output_type": "stream",
     "text": [
      "40\n"
     ]
    }
   ],
   "source": [
    "a = 20 \n",
    "b = 40 \n",
    "c = 10\n",
    "if a>b and a>c:\n",
    "    print(a)\n",
    "elif b>a and b>c:\n",
    "    print(b)\n",
    "elif c>a and c>b:\n",
    "    print(c)"
   ]
  },
  {
   "cell_type": "code",
   "execution_count": 11,
   "id": "cdfda2ac",
   "metadata": {},
   "outputs": [
    {
     "name": "stdout",
     "output_type": "stream",
     "text": [
      "enter the number20\n",
      "vote\n"
     ]
    }
   ],
   "source": [
    "age = int(input(\"enter the number\"))\n",
    "if age >18:\n",
    "    print(\"vote\")\n",
    "            \n",
    "elif age ==18:\n",
    "    print(\"first time voter\")\n",
    "else:\n",
    "     print(\"no votes\")"
   ]
  },
  {
   "cell_type": "code",
   "execution_count": 21,
   "id": "b96615b9",
   "metadata": {},
   "outputs": [
    {
     "name": "stdout",
     "output_type": "stream",
     "text": [
      "square\n"
     ]
    }
   ],
   "source": [
    "\n",
    "l = 6\n",
    "b = 6\n",
    "a = 6\n",
    "area_of_sqaure = a**2\n",
    "area = l*b\n",
    "if area_of_sqaure == area:\n",
    "    print(\"square\")\n",
    "else:\n",
    "    print(\"rectangle\")"
   ]
  },
  {
   "cell_type": "code",
   "execution_count": 18,
   "id": "a297526e",
   "metadata": {},
   "outputs": [
    {
     "name": "stdout",
     "output_type": "stream",
     "text": [
      "square\n"
     ]
    }
   ],
   "source": [
    "l = 10\n",
    "b = 1\n",
    "a = 20\n",
    "area_of_sqaure = a**2\n",
    "area = l*b\n",
    "if area_of_sqaure == area:\n",
    "    print(\"rectangle\")\n",
    "else:\n",
    "    print(\"square\")"
   ]
  },
  {
   "cell_type": "code",
   "execution_count": null,
   "id": "b1ae163e",
   "metadata": {},
   "outputs": [],
   "source": [
    "marks = 80\n",
    "if marks >80:\n",
    "    print(\"a\")"
   ]
  },
  {
   "cell_type": "code",
   "execution_count": 39,
   "id": "5d5c97ff",
   "metadata": {},
   "outputs": [
    {
     "name": "stdout",
     "output_type": "stream",
     "text": [
      "1\n",
      "2\n",
      "3\n",
      "4\n",
      "5\n",
      "6\n"
     ]
    }
   ],
   "source": [
    "num = 784539\n",
    "count = 0 \n",
    "while num!=0:\n",
    "    num = num//10\n",
    "    count=count+1\n",
    "    print(count)\n",
    "    "
   ]
  },
  {
   "cell_type": "code",
   "execution_count": null,
   "id": "7d5bbc1c",
   "metadata": {},
   "outputs": [],
   "source": [
    "for ==== number of repeat known \n",
    "while ==== number of iteration /repeatation known or unknown\n",
    "while == ittilize\n",
    "2. condition \n",
    "3. incremeant/decrement"
   ]
  },
  {
   "cell_type": "code",
   "execution_count": 43,
   "id": "7370bc8b",
   "metadata": {},
   "outputs": [
    {
     "name": "stdout",
     "output_type": "stream",
     "text": [
      "2\n",
      "3\n",
      "4\n",
      "5\n",
      "6\n",
      "7\n",
      "8\n",
      "9\n",
      "10\n",
      "11\n",
      "12\n",
      "13\n",
      "14\n",
      "15\n",
      "16\n",
      "17\n",
      "18\n",
      "19\n",
      "20\n"
     ]
    }
   ],
   "source": [
    "#wap to print 1-10\n",
    "\n",
    "x = 1\n",
    "while x<20:\n",
    "    x= x+1\n",
    "# x+=1\n",
    "    print(x)"
   ]
  },
  {
   "cell_type": "code",
   "execution_count": 49,
   "id": "79e818f0",
   "metadata": {},
   "outputs": [
    {
     "name": "stdout",
     "output_type": "stream",
     "text": [
      "5\n",
      "10\n",
      "15\n",
      "20\n",
      "25\n",
      "30\n",
      "35\n",
      "40\n",
      "45\n",
      "50\n"
     ]
    }
   ],
   "source": [
    "#wap to print table of 5 using while loop\n",
    "x = 5\n",
    "while x<=50:\n",
    "    print(x)\n",
    "    x = x+5"
   ]
  },
  {
   "cell_type": "code",
   "execution_count": 50,
   "id": "63446e03",
   "metadata": {},
   "outputs": [
    {
     "data": {
      "text/plain": [
       "set"
      ]
     },
     "execution_count": 50,
     "metadata": {},
     "output_type": "execute_result"
    }
   ],
   "source": [
    "list\n",
    "tuple\n",
    "dict\n",
    "set"
   ]
  },
  {
   "cell_type": "code",
   "execution_count": 51,
   "id": "7fe79cd4",
   "metadata": {},
   "outputs": [],
   "source": [
    "list = []"
   ]
  },
  {
   "cell_type": "code",
   "execution_count": 54,
   "id": "bade2d47",
   "metadata": {},
   "outputs": [
    {
     "data": {
      "text/plain": [
       "[4, 5, 6]"
      ]
     },
     "execution_count": 54,
     "metadata": {},
     "output_type": "execute_result"
    }
   ],
   "source": [
    "#slicing & indexing\n",
    "a = [1,3,4,5,6,7,8]\n",
    "a[2:5]"
   ]
  },
  {
   "cell_type": "code",
   "execution_count": 60,
   "id": "e4b44e51",
   "metadata": {},
   "outputs": [
    {
     "ename": "TypeError",
     "evalue": "'int' object is not subscriptable",
     "output_type": "error",
     "traceback": [
      "\u001b[1;31m---------------------------------------------------------------------------\u001b[0m",
      "\u001b[1;31mTypeError\u001b[0m                                 Traceback (most recent call last)",
      "Input \u001b[1;32mIn [60]\u001b[0m, in \u001b[0;36m<cell line: 1>\u001b[1;34m()\u001b[0m\n\u001b[1;32m----> 1\u001b[0m \u001b[43ma\u001b[49m\u001b[43m[\u001b[49m\u001b[38;5;241;43m0\u001b[39;49m\u001b[43m]\u001b[49m\u001b[43m \u001b[49m\u001b[43m[\u001b[49m\u001b[38;5;241;43m2\u001b[39;49m\u001b[43m]\u001b[49m [\u001b[38;5;241m3\u001b[39m]\n",
      "\u001b[1;31mTypeError\u001b[0m: 'int' object is not subscriptable"
     ]
    }
   ],
   "source": [
    "a[0] [2] [3]"
   ]
  },
  {
   "cell_type": "code",
   "execution_count": 61,
   "id": "b7d0addb",
   "metadata": {},
   "outputs": [
    {
     "data": {
      "text/plain": [
       "[1, 3, 4, 5, 6, 7, 8]"
      ]
     },
     "execution_count": 61,
     "metadata": {},
     "output_type": "execute_result"
    }
   ],
   "source": [
    "a[::]"
   ]
  },
  {
   "cell_type": "code",
   "execution_count": 62,
   "id": "a2917914",
   "metadata": {},
   "outputs": [
    {
     "data": {
      "text/plain": [
       "[1, 3, 4, 5, 6, 7, 8]"
      ]
     },
     "execution_count": 62,
     "metadata": {},
     "output_type": "execute_result"
    }
   ],
   "source": [
    "a[0:]"
   ]
  },
  {
   "cell_type": "code",
   "execution_count": 63,
   "id": "b62b30e3",
   "metadata": {},
   "outputs": [
    {
     "data": {
      "text/plain": [
       "[1, 3, 4, 5, 6, 7]"
      ]
     },
     "execution_count": 63,
     "metadata": {},
     "output_type": "execute_result"
    }
   ],
   "source": [
    "a[0:6]"
   ]
  },
  {
   "cell_type": "code",
   "execution_count": 64,
   "id": "3bb169bf",
   "metadata": {},
   "outputs": [
    {
     "data": {
      "text/plain": [
       "[8, 7, 6, 5]"
      ]
     },
     "execution_count": 64,
     "metadata": {},
     "output_type": "execute_result"
    }
   ],
   "source": [
    "a[-1:-5:-1]"
   ]
  },
  {
   "cell_type": "code",
   "execution_count": null,
   "id": "5d51542c",
   "metadata": {},
   "outputs": [],
   "source": [
    "#list\n",
    "#n no of data\n",
    "#index\n",
    "#slice\n",
    "#ordered form"
   ]
  }
 ],
 "metadata": {
  "kernelspec": {
   "display_name": "Python 3 (ipykernel)",
   "language": "python",
   "name": "python3"
  },
  "language_info": {
   "codemirror_mode": {
    "name": "ipython",
    "version": 3
   },
   "file_extension": ".py",
   "mimetype": "text/x-python",
   "name": "python",
   "nbconvert_exporter": "python",
   "pygments_lexer": "ipython3",
   "version": "3.9.12"
  }
 },
 "nbformat": 4,
 "nbformat_minor": 5
}
